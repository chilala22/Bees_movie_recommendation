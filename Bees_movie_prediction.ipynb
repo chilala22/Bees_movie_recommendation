{
 "cells": [
  {
   "cell_type": "markdown",
   "id": "1a9b16c8",
   "metadata": {},
   "source": [
    "libraries"
   ]
  },
  {
   "cell_type": "code",
   "execution_count": null,
   "id": "f896ef5a",
   "metadata": {},
   "outputs": [],
   "source": [
    "import pandas as pd\n",
    "import pandas as pd \n",
    "import numpy as np\n",
    "import warnings\n",
    "from ast import literal_eval\n",
    "import os\n",
    "import matplotlib.pyplot as plt\n",
    "import pickle\n",
    "\n",
    "#Import TfIdfVectorizer from scikit-learn\n",
    "from sklearn.feature_extraction.text import TfidfVectorizer\n",
    "#Import cosine_similarity from scikit-learn\n",
    "from sklearn.metrics.pairwise import cosine_similarity\n",
    "# Import CountVectorizer and create the count matrix\n",
    "from sklearn.feature_extraction.text import CountVectorizer\n",
    "\n",
    "warnings.filterwarnings(\"ignore\")\n"
   ]
  },
  {
   "cell_type": "markdown",
   "id": "2f3ae31b",
   "metadata": {},
   "source": [
    "load the movie dataset using pandas."
   ]
  },
  {
   "cell_type": "code",
   "execution_count": null,
   "id": "33674b64",
   "metadata": {},
   "outputs": [],
   "source": [
    "movies=pd.read_csv('tmdb.csv')"
   ]
  },
  {
   "cell_type": "markdown",
   "id": "b36fc929",
   "metadata": {},
   "source": [
    "movie file dataframe"
   ]
  },
  {
   "cell_type": "code",
   "execution_count": null,
   "id": "60b0941e",
   "metadata": {},
   "outputs": [],
   "source": [
    "movies.head(5)"
   ]
  },
  {
   "cell_type": "markdown",
   "id": "a72322a4",
   "metadata": {},
   "source": [
    "getting description of information present in csv file"
   ]
  },
  {
   "cell_type": "code",
   "execution_count": null,
   "id": "d9befd1d",
   "metadata": {},
   "outputs": [],
   "source": [
    "movies.describe()"
   ]
  },
  {
   "cell_type": "markdown",
   "id": "e6e2a711",
   "metadata": {},
   "source": [
    "showing structure of elements in the csv files"
   ]
  },
  {
   "cell_type": "code",
   "execution_count": null,
   "id": "d930c717",
   "metadata": {},
   "outputs": [],
   "source": [
    "movies.shape"
   ]
  },
  {
   "cell_type": "markdown",
   "id": "5c84c755",
   "metadata": {},
   "source": [
    "displays the The number of entries, number of missing values, and data types for each column."
   ]
  },
  {
   "cell_type": "code",
   "execution_count": null,
   "id": "8db82121",
   "metadata": {},
   "outputs": [],
   "source": [
    "movies.info()"
   ]
  },
  {
   "cell_type": "markdown",
   "id": "e4c8ba8e",
   "metadata": {},
   "source": [
    "count the number of missing values in each column "
   ]
  },
  {
   "cell_type": "code",
   "execution_count": null,
   "id": "c63e694b",
   "metadata": {},
   "outputs": [],
   "source": [
    "movies.isnull().sum()"
   ]
  },
  {
   "cell_type": "code",
   "execution_count": null,
   "id": "564e5c48",
   "metadata": {},
   "outputs": [],
   "source": [
    "print(movies.head(5))\n",
    "print(movies.shape)\n",
    "print(movies.info())\n",
    "print(movies.isnull().sum())"
   ]
  },
  {
   "cell_type": "markdown",
   "id": "3a6857a1",
   "metadata": {},
   "source": [
    "# POPULARITY FILTERING"
   ]
  },
  {
   "cell_type": "code",
   "execution_count": null,
   "id": "45115fef",
   "metadata": {},
   "outputs": [],
   "source": [
    "demographic_data = movies[['id','original_title', 'cast','crew','genres','keywords','overview','vote_count','vote_average','popularity']]\n",
    "demographic_data.head(5)"
   ]
  },
  {
   "cell_type": "markdown",
   "id": "e3c49018",
   "metadata": {},
   "source": [
    "Extract cast, crew, keywords and genre Parse the stringified features into their corresponding python objects"
   ]
  },
  {
   "cell_type": "code",
   "execution_count": null,
   "id": "7dff959f",
   "metadata": {},
   "outputs": [],
   "source": [
    "demographic_features = ['cast', 'crew', 'keywords', 'genres']\n",
    "for feature in demographic_features:\n",
    "    demographic_data[feature] = demographic_data[feature].apply(literal_eval)"
   ]
  },
  {
   "cell_type": "code",
   "execution_count": null,
   "id": "d0758819",
   "metadata": {},
   "outputs": [],
   "source": [
    "def get_list(x):\n",
    "    # Return empty list in case of missing/malformed data\n",
    "    if not isinstance(x, list):\n",
    "        return []\n",
    "\n",
    "    names = []\n",
    "    for i in x:\n",
    "        if not isinstance(i, dict) or 'name' not in i:\n",
    "#             print(f\"Skipping invalid element: {i}\")\n",
    "            continue\n",
    "        names.append(i['name'])\n",
    "\n",
    "    # Check if more than 3 elements exist. If yes, return only first three. If no, return entire list.\n",
    "    if len(names) > 3:\n",
    "        names = names[:3]\n",
    "\n",
    "    return names\n",
    "\n",
    "\n",
    "# Get the director's name from the crew feature. If director is not listed, return NaN\n",
    "def get_director(x):\n",
    "    for i in x:\n",
    "        if i['job'] == 'Director':\n",
    "            return i['name']\n",
    "    return np.nan"
   ]
  },
  {
   "cell_type": "markdown",
   "id": "ed3997d1",
   "metadata": {},
   "source": [
    "Define features: new director, cast, genres and keywords"
   ]
  },
  {
   "cell_type": "code",
   "execution_count": null,
   "id": "6ebdbe9c",
   "metadata": {},
   "outputs": [],
   "source": [
    "demographic_data['director'] = demographic_data['crew'].apply(get_director)\n",
    "demographic_features = ['cast','crew' ,'keywords', 'genres']\n",
    "for feature in demographic_features:\n",
    "    demographic_data[feature] = demographic_data[feature].apply(get_list)"
   ]
  },
  {
   "cell_type": "markdown",
   "id": "c9e8c8d1",
   "metadata": {},
   "source": [
    "viewing dataframe of data"
   ]
  },
  {
   "cell_type": "code",
   "execution_count": null,
   "id": "ba0eefd8",
   "metadata": {},
   "outputs": [],
   "source": [
    "demographic_data.head(2)"
   ]
  },
  {
   "cell_type": "markdown",
   "id": "1c784ed0",
   "metadata": {},
   "source": [
    "store obtained data to a csv\n",
    "\n",
    "Recommendation based on highest ratings calculated using total votes"
   ]
  },
  {
   "cell_type": "code",
   "execution_count": null,
   "id": "3db45398",
   "metadata": {},
   "outputs": [],
   "source": [
    "demographic_data.to_csv(r'highest_movies_database.csv', index=False)"
   ]
  },
  {
   "cell_type": "markdown",
   "id": "3051aa4a",
   "metadata": {},
   "source": [
    "mean vote across the whole report"
   ]
  },
  {
   "cell_type": "code",
   "execution_count": null,
   "id": "3a5d3404",
   "metadata": {},
   "outputs": [],
   "source": [
    "mean_vote= demographic_data['vote_average'].mean()\n",
    "mean_vote"
   ]
  },
  {
   "cell_type": "markdown",
   "id": "103b7c88",
   "metadata": {},
   "source": [
    "minimum_vote, the minimum votes required"
   ]
  },
  {
   "cell_type": "code",
   "execution_count": null,
   "id": "83d3a054",
   "metadata": {},
   "outputs": [],
   "source": [
    "minimum_vote= demographic_data['vote_count'].quantile(0.7)\n",
    "minimum_vote"
   ]
  },
  {
   "cell_type": "markdown",
   "id": "ec7cbf75",
   "metadata": {},
   "source": [
    "for a movie to feature, it must have minimum of 581 votes. hence movies without this criteria are filtred out"
   ]
  },
  {
   "cell_type": "code",
   "execution_count": null,
   "id": "c9adeef3",
   "metadata": {},
   "outputs": [],
   "source": [
    "q_movies = demographic_data.copy().loc[demographic_data['vote_count'] >= minimum_vote]\n",
    "q_movies.shape"
   ]
  },
  {
   "cell_type": "markdown",
   "id": "2b50bc8b",
   "metadata": {},
   "source": [
    "Calculating metric for each qualified movie(1442) using the IMDB formular"
   ]
  },
  {
   "cell_type": "code",
   "execution_count": null,
   "id": "3e1bdb0d",
   "metadata": {},
   "outputs": [],
   "source": [
    "def weighted_rating(x, m=minimum_vote, C=mean_vote):\n",
    "    v = x['vote_count']\n",
    "    R = x['vote_average']\n",
    "    \n",
    "    return (v/(v+m) * R) + (m/(m+v) * C)"
   ]
  },
  {
   "cell_type": "markdown",
   "id": "20b61d97",
   "metadata": {},
   "source": [
    "New feature 'score' and calculate its value with weighted_rating()"
   ]
  },
  {
   "cell_type": "code",
   "execution_count": null,
   "id": "0f1deb4e",
   "metadata": {},
   "outputs": [],
   "source": [
    "q_movies['score'] = q_movies.apply(weighted_rating, axis=1)"
   ]
  },
  {
   "cell_type": "markdown",
   "id": "adab5ba4",
   "metadata": {},
   "source": [
    "top 10 highest rated movies"
   ]
  },
  {
   "cell_type": "code",
   "execution_count": null,
   "id": "c133e782",
   "metadata": {},
   "outputs": [],
   "source": [
    "q_movies = q_movies.sort_values('score', ascending=False)\n",
    "q_movies[['id','original_title', 'vote_count', 'vote_average', 'score']].head(10)"
   ]
  },
  {
   "cell_type": "markdown",
   "id": "61a6f2ef",
   "metadata": {},
   "source": [
    "plot of top 10 movies based on weighted score"
   ]
  },
  {
   "cell_type": "code",
   "execution_count": null,
   "id": "0d603a9d",
   "metadata": {},
   "outputs": [],
   "source": [
    "plt.figure(figsize=(12,8))\n",
    "\n",
    "plt.barh(q_movies['original_title'].head(10),q_movies['score'].head(10), align='center',color='pink')\n",
    "plt.gca().invert_yaxis()\n",
    "plt.xlabel(\"Weighted Score\", weight='bold')\n",
    "plt.title(\"Best Rated Movies\",weight='bold')"
   ]
  },
  {
   "cell_type": "markdown",
   "id": "a8201e4a",
   "metadata": {},
   "source": [
    "top 10 movies based on popularity"
   ]
  },
  {
   "cell_type": "code",
   "execution_count": null,
   "id": "5c3b06a7",
   "metadata": {},
   "outputs": [],
   "source": [
    "pop= demographic_data.sort_values('popularity', ascending=False)\n",
    "\n",
    "plt.figure(figsize=(12,8))\n",
    "\n",
    "plt.barh(pop['original_title'].head(10),pop['popularity'].head(10), align='center',color='pink')\n",
    "plt.gca().invert_yaxis()\n",
    "plt.xlabel(\"Popularity Score\", weight='bold')\n",
    "plt.title(\"Most Popular Movies\",weight='bold')"
   ]
  },
  {
   "cell_type": "code",
   "execution_count": null,
   "id": "10612a34",
   "metadata": {},
   "outputs": [],
   "source": [
    "q_best_rated = q_movies[['id','original_title','overview','score','crew','director']]\n",
    "\n",
    "pickle.dump(q_best_rated, open('best_rated_movies.pkl', 'wb'))\n",
    "q_best_rated"
   ]
  },
  {
   "cell_type": "code",
   "execution_count": null,
   "id": "7d384115",
   "metadata": {},
   "outputs": [],
   "source": [
    "q_most_popular = pop[['id','original_title','overview','popularity','crew','director']]\n",
    "\n",
    "pickle.dump(q_most_popular, open('most_popular_movies.pkl', 'wb'))\n",
    "q_most_popular\n"
   ]
  },
  {
   "cell_type": "markdown",
   "id": "b1259481",
   "metadata": {},
   "source": [
    "# CONTENT-BASED FILTERING"
   ]
  },
  {
   "cell_type": "code",
   "execution_count": null,
   "id": "b00586cd",
   "metadata": {},
   "outputs": [],
   "source": [
    "data_content_based = movies[['id','title','overview','cast','genres','keywords','director']]\n",
    "data_content_based.head()"
   ]
  },
  {
   "cell_type": "code",
   "execution_count": null,
   "id": "714552b2",
   "metadata": {},
   "outputs": [],
   "source": [
    "data_content_based['tags'] = data_content_based['overview']+data_content_based['genres']+data_content_based['director']\n",
    "data_content_based"
   ]
  },
  {
   "cell_type": "markdown",
   "id": "92f161af",
   "metadata": {},
   "source": [
    "TF-IDF Vectorizer\n",
    "\n",
    "Define a TF-IDF Vectorizer Object. Remove all english stop words such as 'the', 'a', 'an'"
   ]
  },
  {
   "cell_type": "code",
   "execution_count": null,
   "id": "241b5123",
   "metadata": {},
   "outputs": [],
   "source": [
    "tfidf = TfidfVectorizer(stop_words='english')"
   ]
  },
  {
   "cell_type": "markdown",
   "id": "74828e08",
   "metadata": {},
   "source": [
    "Replace NaN with an empty string"
   ]
  },
  {
   "cell_type": "code",
   "execution_count": null,
   "id": "ed50aed6",
   "metadata": {},
   "outputs": [],
   "source": [
    "data_content_based['tags'] = data_content_based['tags'].fillna('')"
   ]
  },
  {
   "cell_type": "markdown",
   "id": "98f0283f",
   "metadata": {},
   "source": [
    "Creating the required TF-IDF matrix by fitting and transforming the data"
   ]
  },
  {
   "cell_type": "code",
   "execution_count": null,
   "id": "d6eae77e",
   "metadata": {},
   "outputs": [],
   "source": [
    "tfidf_matrix = tfidf.fit_transform(data_content_based['tags'].apply(lambda x: np.str_(x)))\n",
    "tfidf_matrix.shape"
   ]
  },
  {
   "cell_type": "markdown",
   "id": "f0dee5c0",
   "metadata": {},
   "source": [
    "Convertint TFIDF matrix to Pandas Dataframe to veiw word frequencies, as seen above there are over 20979 unique words are used to describe 4803 movies"
   ]
  },
  {
   "cell_type": "code",
   "execution_count": null,
   "id": "7d6e4b5e",
   "metadata": {},
   "outputs": [],
   "source": [
    "doc_term_matrix = tfidf_matrix.todense()\n",
    "data_frame_database = pd.DataFrame(doc_term_matrix, columns=tfidf.get_feature_names_out(), index=data_content_based.tags)\n",
    "data_frame_database.to_csv('movies_database_tfidf.csv', index=True)"
   ]
  },
  {
   "cell_type": "code",
   "execution_count": null,
   "id": "f32a3055",
   "metadata": {},
   "outputs": [],
   "source": [
    "data_frame_database.head()"
   ]
  },
  {
   "cell_type": "code",
   "execution_count": null,
   "id": "f6cf8db6",
   "metadata": {},
   "outputs": [],
   "source": [
    "cosine_sim = cosine_similarity(tfidf_matrix, tfidf_matrix)\n",
    "cosine_sim"
   ]
  },
  {
   "cell_type": "markdown",
   "id": "2b697722",
   "metadata": {},
   "source": [
    "dataframe of the similarity matrix with rows and columns as movie titles"
   ]
  },
  {
   "cell_type": "code",
   "execution_count": null,
   "id": "ad4e5577",
   "metadata": {},
   "outputs": [],
   "source": [
    "similarity_matrix = pd.DataFrame(cosine_sim, columns=data_content_based.title, index=data_content_based.title)\n",
    "similarity_matrix.head()"
   ]
  },
  {
   "cell_type": "markdown",
   "id": "1e3d51a4",
   "metadata": {},
   "source": [
    "Obtaining the top 10 movies similar to the movie from a given title"
   ]
  },
  {
   "cell_type": "code",
   "execution_count": null,
   "id": "e95d1203",
   "metadata": {},
   "outputs": [],
   "source": [
    "indices = pd.Series(data_content_based.index, index=data_content_based['title']).drop_duplicates()\n",
    "indices"
   ]
  },
  {
   "cell_type": "markdown",
   "id": "cd5d38ee",
   "metadata": {},
   "source": [
    "Function that takes in movie title as input and outputs most similar movies"
   ]
  },
  {
   "cell_type": "code",
   "execution_count": null,
   "id": "c96a20b7",
   "metadata": {},
   "outputs": [],
   "source": [
    "def get_recommendations(title, cosine_sim=cosine_sim):\n",
    "    # Get the index of the movie that matches the title\n",
    "    idx = indices[title]\n",
    "\n",
    "    # Get the pairwise similarity scores of all movies with that movie\n",
    "    sim_scores = list(enumerate(cosine_sim[idx]))\n",
    "\n",
    "    # Sort the movies in descending order of similarity scores\n",
    "    sim_scores = sorted(sim_scores, key=lambda x: x[1], reverse=True)\n",
    "\n",
    "    # Get the scores of the 12 most similar movies ignoring the first one as it is itself movie\n",
    "    sim_scores = sim_scores[1:13]\n",
    "\n",
    "    # Get the movie indices\n",
    "    movie_indices = [i[0] for i in sim_scores]\n",
    "\n",
    "    # Return the top 10 most similar movies\n",
    "    return data_content_based['title'].iloc[movie_indices]"
   ]
  },
  {
   "cell_type": "code",
   "execution_count": null,
   "id": "4f8cc9aa",
   "metadata": {},
   "outputs": [],
   "source": [
    "get_recommendations('The Godfather', cosine_sim)"
   ]
  },
  {
   "cell_type": "code",
   "execution_count": null,
   "id": "65159bc5",
   "metadata": {},
   "outputs": [],
   "source": [
    "pickle.dump(data_content_based, open('movies_list_part1.pkl', 'wb'))\n",
    "pickle.load(open('movies_list_part1.pkl', 'rb'))"
   ]
  },
  {
   "cell_type": "code",
   "execution_count": null,
   "id": "c11bee2b",
   "metadata": {},
   "outputs": [],
   "source": [
    "pickle.dump(cosine_sim, open('similarity_part1.pkl', 'wb'))\n",
    "pickle.load(open('similarity_part1.pkl', 'rb'))"
   ]
  },
  {
   "cell_type": "markdown",
   "id": "20eea7fc",
   "metadata": {},
   "source": [
    "The above has recommendations based on genre\n",
    "\n",
    "Modification of above code on type of recommendation based of top 3 actors, director, top 3 genres and top 3 keywords of the given movie."
   ]
  },
  {
   "cell_type": "code",
   "execution_count": null,
   "id": "942b4565",
   "metadata": {},
   "outputs": [],
   "source": [
    "data_content_based.head()"
   ]
  },
  {
   "cell_type": "markdown",
   "id": "24bcf9af",
   "metadata": {},
   "source": [
    "cleaning data i.e all lower case and remove spaces between names"
   ]
  },
  {
   "cell_type": "code",
   "execution_count": null,
   "id": "a835b213",
   "metadata": {},
   "outputs": [],
   "source": [
    "def clean_data(x):\n",
    "    if isinstance(x, list):\n",
    "        return [str.lower(i.replace(\" \", \"\")) for i in x]\n",
    "    else:\n",
    "        #Check if director exists. If not, return empty string\n",
    "        if isinstance(x, str):\n",
    "            return str.lower(x.replace(\" \", \"\"))\n",
    "        else:\n",
    "            return ''"
   ]
  },
  {
   "cell_type": "markdown",
   "id": "8fecd317",
   "metadata": {},
   "source": [
    "cleaning data in -features might need to change features name because its already being used in the demographic filtering mode"
   ]
  },
  {
   "cell_type": "code",
   "execution_count": null,
   "id": "5df6482d",
   "metadata": {},
   "outputs": [],
   "source": [
    "features = ['cast', 'keywords', 'director', 'genres']\n",
    "for feature in features:\n",
    "    data_content_based[feature] = data_content_based[feature].apply(clean_data)"
   ]
  },
  {
   "cell_type": "code",
   "execution_count": null,
   "id": "69b19697",
   "metadata": {},
   "outputs": [],
   "source": [
    "def create_combined_features(x):\n",
    "    return ' '.join(x['keywords']) + ' ' + ' '.join(x['cast']) + ' ' + x['director'] + ' ' + ' '.join(x['genres'])\n",
    "data_content_based['combined_features'] = data_content_based.apply(create_combined_features, axis=1)"
   ]
  },
  {
   "cell_type": "markdown",
   "id": "6f487ef3",
   "metadata": {},
   "source": [
    "creating a word vector of the entire corpus and provides the frequency of the each word in the document."
   ]
  },
  {
   "cell_type": "code",
   "execution_count": null,
   "id": "51a1e825",
   "metadata": {},
   "outputs": [],
   "source": [
    "count = CountVectorizer(stop_words='english')\n",
    "count_matrix = count.fit_transform(data_content_based['combined_features'])\n",
    "count_matrix.shape"
   ]
  },
  {
   "cell_type": "markdown",
   "id": "386e68e2",
   "metadata": {},
   "source": [
    "(movies,unique words )\n",
    "\n",
    "Converting count matrix to Pandas Dataframe to view word frequencies"
   ]
  },
  {
   "cell_type": "code",
   "execution_count": null,
   "id": "f74b63d2",
   "metadata": {},
   "outputs": [],
   "source": [
    "doc_term_matrix = count_matrix.todense()\n",
    "data_frame_database2 = pd.DataFrame(doc_term_matrix, columns=count.get_feature_names_out(), index=data_content_based.combined_features)\n",
    "data_frame_database2.to_csv(os.path.join(r'movies_database_countmatrix.csv'), index=True)"
   ]
  },
  {
   "cell_type": "code",
   "execution_count": null,
   "id": "480d48ae",
   "metadata": {},
   "outputs": [],
   "source": [
    "data_frame_database2.head()"
   ]
  },
  {
   "cell_type": "markdown",
   "id": "98cc9fa0",
   "metadata": {},
   "source": [
    "Computing Similarity Score using Cosine Similarity"
   ]
  },
  {
   "cell_type": "code",
   "execution_count": null,
   "id": "45d3acf3",
   "metadata": {},
   "outputs": [],
   "source": [
    "cosine_sim2 = cosine_similarity(count_matrix, count_matrix)\n",
    "cosine_sim2"
   ]
  },
  {
   "cell_type": "markdown",
   "id": "c2c9454d",
   "metadata": {},
   "source": [
    "Creating dataframe of the similarity matrix."
   ]
  },
  {
   "cell_type": "code",
   "execution_count": null,
   "id": "dae8e1f1",
   "metadata": {},
   "outputs": [],
   "source": [
    "sim2 = pd.DataFrame(cosine_sim2, columns=data_content_based.title, index=data_content_based.title)\n",
    "sim2.head()"
   ]
  },
  {
   "cell_type": "markdown",
   "id": "08db298e",
   "metadata": {},
   "source": [
    "Reseting index of our main DataFrame and construct reverse mapping as before"
   ]
  },
  {
   "cell_type": "code",
   "execution_count": null,
   "id": "4216c188",
   "metadata": {},
   "outputs": [],
   "source": [
    "data_content_based = data_content_based.reset_index()\n",
    "indices = pd.Series(data_content_based.index, index=data_content_based['title'])"
   ]
  },
  {
   "cell_type": "code",
   "execution_count": null,
   "id": "aae81200",
   "metadata": {},
   "outputs": [],
   "source": [
    "get_recommendations('The Godfather', cosine_sim2)"
   ]
  },
  {
   "cell_type": "code",
   "execution_count": null,
   "id": "2aeefaaf",
   "metadata": {},
   "outputs": [],
   "source": [
    "pickle.dump(data_content_based, open('movies_list_part2.pkl', 'wb'))"
   ]
  },
  {
   "cell_type": "code",
   "execution_count": null,
   "id": "edd1af39",
   "metadata": {},
   "outputs": [],
   "source": [
    "pickle.load(open('movies_list_part2.pkl', 'rb'))"
   ]
  },
  {
   "cell_type": "code",
   "execution_count": null,
   "id": "eecbdb2b",
   "metadata": {},
   "outputs": [],
   "source": [
    "pickle.dump(cosine_sim2, open('similarity_part2.pkl', 'wb'))"
   ]
  },
  {
   "cell_type": "code",
   "execution_count": null,
   "id": "0f063945",
   "metadata": {},
   "outputs": [],
   "source": [
    "pickle.load(open('similarity_part2.pkl', 'rb'))"
   ]
  },
  {
   "cell_type": "markdown",
   "id": "01af857f",
   "metadata": {},
   "source": [
    "# from main_mrs"
   ]
  },
  {
   "cell_type": "code",
   "execution_count": null,
   "id": "83ed3ca1",
   "metadata": {},
   "outputs": [],
   "source": [
    "cv=CountVectorizer(max_features=10000, stop_words='english')"
   ]
  },
  {
   "cell_type": "code",
   "execution_count": null,
   "id": "6afe999e",
   "metadata": {},
   "outputs": [],
   "source": [
    "cv"
   ]
  },
  {
   "cell_type": "code",
   "execution_count": null,
   "id": "3d581a90",
   "metadata": {},
   "outputs": [],
   "source": [
    "new_data=data_content_based"
   ]
  },
  {
   "cell_type": "code",
   "execution_count": null,
   "id": "555ea260",
   "metadata": {},
   "outputs": [],
   "source": [
    "vector=cv.fit_transform(new_data['tags'].values.astype('U')).toarray()"
   ]
  },
  {
   "cell_type": "code",
   "execution_count": null,
   "id": "73ef74c5",
   "metadata": {},
   "outputs": [],
   "source": [
    "vector.shape"
   ]
  },
  {
   "cell_type": "code",
   "execution_count": null,
   "id": "2f5fccaa",
   "metadata": {},
   "outputs": [],
   "source": [
    "similarity=cosine_similarity(vector)"
   ]
  },
  {
   "cell_type": "code",
   "execution_count": null,
   "id": "74f2545f",
   "metadata": {},
   "outputs": [],
   "source": [
    "similarity"
   ]
  },
  {
   "cell_type": "code",
   "execution_count": null,
   "id": "493d52aa",
   "metadata": {},
   "outputs": [],
   "source": [
    "new_data[new_data['title']==\"The Godfather\"].index[0]"
   ]
  },
  {
   "cell_type": "code",
   "execution_count": null,
   "id": "6c6cc6f2",
   "metadata": {},
   "outputs": [],
   "source": [
    "distance = sorted(list(enumerate(similarity[2])), reverse=True, key=lambda vector:vector[1])\n",
    "for i in distance[0:12]:\n",
    "    print(new_data.iloc[i[0]].title)"
   ]
  },
  {
   "cell_type": "code",
   "execution_count": null,
   "id": "ca5e67e6",
   "metadata": {},
   "outputs": [],
   "source": [
    "def recommand(movies):\n",
    "    index=new_data[new_data['title']==movies].index[0]\n",
    "    distance = sorted(list(enumerate(similarity[index])), reverse=True, key=lambda vector:vector[1])\n",
    "    for i in distance[0:12]:\n",
    "        print(new_data.iloc[i[0]].title)"
   ]
  },
  {
   "cell_type": "code",
   "execution_count": null,
   "id": "e6894d29",
   "metadata": {},
   "outputs": [],
   "source": [
    "recommand(\"The Godfather\")"
   ]
  },
  {
   "cell_type": "code",
   "execution_count": null,
   "id": "38e4b47e",
   "metadata": {},
   "outputs": [],
   "source": [
    "pickle.dump(new_data, open('movies_list.pkl', 'wb'))"
   ]
  },
  {
   "cell_type": "code",
   "execution_count": null,
   "id": "7acc87f9",
   "metadata": {},
   "outputs": [],
   "source": [
    "pickle.dump(similarity, open('similarity.pkl', 'wb'))"
   ]
  },
  {
   "cell_type": "code",
   "execution_count": null,
   "id": "d4d60fbc",
   "metadata": {},
   "outputs": [],
   "source": []
  }
 ],
 "metadata": {
  "kernelspec": {
   "display_name": "Python 3 (ipykernel)",
   "language": "python",
   "name": "python3"
  },
  "language_info": {
   "codemirror_mode": {
    "name": "ipython",
    "version": 3
   },
   "file_extension": ".py",
   "mimetype": "text/x-python",
   "name": "python",
   "nbconvert_exporter": "python",
   "pygments_lexer": "ipython3",
   "version": "3.11.4"
  }
 },
 "nbformat": 4,
 "nbformat_minor": 5
}
